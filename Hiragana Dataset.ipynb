{
 "cells": [
  {
   "cell_type": "code",
   "execution_count": 1,
   "id": "c2224f7f",
   "metadata": {},
   "outputs": [],
   "source": [
    "from pathlib import Path\n",
    "from matplotlib import pyplot as plt\n",
    "import numpy as np\n",
    "import cv2\n",
    "import glob"
   ]
  },
  {
   "cell_type": "code",
   "execution_count": 2,
   "id": "c667d061",
   "metadata": {},
   "outputs": [],
   "source": [
    "### Source of the hiragana images\n",
    "source = Path('C:/Users/andma/OneDrive/Documenti/hiragana images/hiragana_images')\n",
    "source2 = 'C:/Users/andma/OneDrive/Documenti/hiragana images/hiragana_images'\n",
    "### Destination of the modified hiragana images\n",
    "destination = Path('C:/Users/andma/OneDrive/Documenti/hiragana images/hiragana_images_processed')"
   ]
  },
  {
   "cell_type": "code",
   "execution_count": 3,
   "id": "350ba355",
   "metadata": {},
   "outputs": [],
   "source": [
    "### Obtaining the complete paths of all source images\n",
    "subdirect = [x for x in source.iterdir() if x.is_dir()]\n",
    "\n",
    "subdirect_string = [str(path) for path in subdirect]\n",
    "###source_images = [glob.glob(folder.glob(\"/*.JPG\"))for folder in subdirect]\n",
    "source_images = [glob.glob(path + '/*.jpg') for path in subdirect_string]\n",
    "\n",
    "images_path = []\n",
    "for lists in source_images:\n",
    "    for path in lists:\n",
    "        images_path.append(path)\n",
    "#for path in subdirect_string:\n",
    "    #source_images.append(glob.glob(path + '/*.jpg'))\n",
    "#source_images = [folder.glob(\"*.jpg\") for folder in subdirect]"
   ]
  },
  {
   "cell_type": "code",
   "execution_count": 17,
   "id": "71ff66a4",
   "metadata": {},
   "outputs": [],
   "source": [
    "#### Padding and cropping\n",
    "for path in images_path:\n",
    "    \n",
    "    image = cv2.imread(path)\n",
    "    \n",
    "    #### Adding 1 pixel padding to the bottom of the images to obtain 84x84 pixels images\n",
    "    padded_image = cv2.copyMakeBorder(image, 0, 0, 1, 0, cv2.BORDER_CONSTANT)\n",
    "    \n",
    "    #### Resizing the images to obtain 28x28 pixels images\n",
    "    #width = int(padded_image.shape[1] * 1/3)\n",
    "    #height = int(padded_image.shape[0] * 1/3)\n",
    "    #dsize = (width, height)\n",
    "\n",
    "    #output = cv2.resize(padded_image, dsize)\n",
    "\n",
    "    cv2.imwrite(str(destination) + '/' + path[path.find('k') :],padded_image) "
   ]
  }
 ],
 "metadata": {
  "kernelspec": {
   "display_name": "Python 3 (ipykernel)",
   "language": "python",
   "name": "python3"
  },
  "language_info": {
   "codemirror_mode": {
    "name": "ipython",
    "version": 3
   },
   "file_extension": ".py",
   "mimetype": "text/x-python",
   "name": "python",
   "nbconvert_exporter": "python",
   "pygments_lexer": "ipython3",
   "version": "3.9.13"
  }
 },
 "nbformat": 4,
 "nbformat_minor": 5
}
