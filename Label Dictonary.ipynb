{
 "cells": [
  {
   "cell_type": "markdown",
   "id": "6c95a687",
   "metadata": {},
   "source": [
    "# Creation of label's dictionary"
   ]
  },
  {
   "cell_type": "code",
   "execution_count": 1,
   "id": "a39197f0",
   "metadata": {},
   "outputs": [],
   "source": [
    "import os"
   ]
  },
  {
   "cell_type": "code",
   "execution_count": 5,
   "id": "ce4db4ea",
   "metadata": {},
   "outputs": [],
   "source": [
    "dataset_path = 'C:/Users/andma/OneDrive/Documenti/hiragana images/hiragana_images'"
   ]
  },
  {
   "cell_type": "code",
   "execution_count": 17,
   "id": "3e3dc474",
   "metadata": {},
   "outputs": [
    {
     "name": "stdout",
     "output_type": "stream",
     "text": [
      "Stored 'label_dict' (dict)\n"
     ]
    },
    {
     "data": {
      "text/plain": [
       "{0: 'A',\n",
       " 1: 'BA',\n",
       " 2: 'CHI',\n",
       " 3: 'DA',\n",
       " 4: 'E',\n",
       " 5: 'FU',\n",
       " 6: 'HA',\n",
       " 7: 'HE',\n",
       " 8: 'HI',\n",
       " 9: 'HO',\n",
       " 10: 'I',\n",
       " 11: 'JI',\n",
       " 12: 'KA',\n",
       " 13: 'KE',\n",
       " 14: 'KI',\n",
       " 15: 'KO',\n",
       " 16: 'KU',\n",
       " 17: 'MA',\n",
       " 18: 'ME',\n",
       " 19: 'MI',\n",
       " 20: 'MO',\n",
       " 21: 'MU',\n",
       " 22: 'N',\n",
       " 23: 'NA',\n",
       " 24: 'NE',\n",
       " 25: 'NI',\n",
       " 26: 'NO',\n",
       " 27: 'NU',\n",
       " 28: 'O',\n",
       " 29: 'PI',\n",
       " 30: 'RA',\n",
       " 31: 'RE',\n",
       " 32: 'RI',\n",
       " 33: 'RO',\n",
       " 34: 'RU',\n",
       " 35: 'SA',\n",
       " 36: 'SE',\n",
       " 37: 'SHI',\n",
       " 38: 'SO',\n",
       " 39: 'SU',\n",
       " 40: 'TA',\n",
       " 41: 'TE',\n",
       " 42: 'TO',\n",
       " 43: 'TSU',\n",
       " 44: 'U',\n",
       " 45: 'WA',\n",
       " 46: 'WO',\n",
       " 47: 'YA',\n",
       " 48: 'YO',\n",
       " 49: 'YU'}"
      ]
     },
     "execution_count": 17,
     "metadata": {},
     "output_type": "execute_result"
    }
   ],
   "source": [
    "label_dict = {}\n",
    "\n",
    "\n",
    "train_data_path = os.path.join(dataset_path, 'train')\n",
    "i=0\n",
    "for dirs in os.listdir(train_data_path):\n",
    "    label_dict[i] = os.path.basename(dirs)\n",
    "    i+=1\n",
    "    \n",
    "%store label_dict\n",
    "\n",
    "label_dict"
   ]
  }
 ],
 "metadata": {
  "kernelspec": {
   "display_name": "Python 3 (ipykernel)",
   "language": "python",
   "name": "python3"
  },
  "language_info": {
   "codemirror_mode": {
    "name": "ipython",
    "version": 3
   },
   "file_extension": ".py",
   "mimetype": "text/x-python",
   "name": "python",
   "nbconvert_exporter": "python",
   "pygments_lexer": "ipython3",
   "version": "3.9.13"
  }
 },
 "nbformat": 4,
 "nbformat_minor": 5
}
