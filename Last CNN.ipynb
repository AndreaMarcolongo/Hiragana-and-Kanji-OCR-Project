{
 "cells": [
  {
   "cell_type": "markdown",
   "id": "05109ba3",
   "metadata": {},
   "source": [
    "### Lo scopo di questo cosice è quello di costruire una CNN per il riconoscimento dei caratteri hiragana (il dataset utilizzato viene costruito con il codice nel notebook Last Hiragana Dataset) tramite la libreria Tensorflow.\n",
    "\n",
    "### Tutti il convulutional layers della CNN hanno un dropout con coefficiente posto a 0.3 (non ho fatto molte prove ma già così funziona bene quindi non ho fatto modifiche)."
   ]
  },
  {
   "cell_type": "code",
   "execution_count": 1,
   "id": "cecad17a",
   "metadata": {},
   "outputs": [],
   "source": [
    "import os\n",
    "import tensorflow as tf\n",
    "import numpy as np\n",
    "import matplotlib.pyplot as plt\n",
    "import pathlib\n",
    "import tensorflow_datasets as tfds"
   ]
  },
  {
   "cell_type": "code",
   "execution_count": 2,
   "id": "871e6b42",
   "metadata": {},
   "outputs": [],
   "source": [
    "dataset_path = 'C:/Users/andma/OneDrive/Documenti/hiragana images/hiragana_images'"
   ]
  },
  {
   "cell_type": "code",
   "execution_count": 3,
   "id": "d509da0d",
   "metadata": {},
   "outputs": [
    {
     "name": "stdout",
     "output_type": "stream",
     "text": [
      "Found 2000 files belonging to 50 classes.\n",
      "Using 1700 files for training.\n"
     ]
    }
   ],
   "source": [
    "# Create the dataset\n",
    "dataset = tf.keras.preprocessing.image_dataset_from_directory(\n",
    "    dataset_path, color_mode='grayscale', labels = 'inferred', image_size=(84, 84), validation_split=0.15, seed=42, subset='training'\n",
    ")"
   ]
  },
  {
   "cell_type": "code",
   "execution_count": 4,
   "id": "e74b62ed",
   "metadata": {},
   "outputs": [
    {
     "name": "stdout",
     "output_type": "stream",
     "text": [
      "Train dataset: (TensorSpec(shape=(None, 84, 84, 1), dtype=tf.float32, name=None), TensorSpec(shape=(None,), dtype=tf.int32, name=None))\n",
      "Validation dataset: (TensorSpec(shape=(None, 84, 84, 1), dtype=tf.float32, name=None), TensorSpec(shape=(None,), dtype=tf.int32, name=None))\n",
      "Test dataset: (TensorSpec(shape=(None, 84, 84, 1), dtype=tf.float32, name=None), TensorSpec(shape=(None,), dtype=tf.int32, name=None))\n"
     ]
    }
   ],
   "source": [
    "# Get the number of elements in the dataset\n",
    "elements = tf.cast(dataset.cardinality(), tf.int64)\n",
    "num_elements = elements.numpy()\n",
    "\n",
    "# Split the dataset into a training set, a validation set, and a test set\n",
    "train_dataset = dataset.take(int(0.7 * num_elements))\n",
    "validation_dataset = dataset.skip(int(0.7 * num_elements)).take(int(0.15 * num_elements))\n",
    "test_dataset = dataset.skip(int(0.85 * num_elements))\n",
    "\n",
    "# Print the shapes of the datasets\n",
    "print(\"Train dataset:\", train_dataset.element_spec)\n",
    "print(\"Validation dataset:\", validation_dataset.element_spec)\n",
    "print(\"Test dataset:\", test_dataset.element_spec)"
   ]
  },
  {
   "cell_type": "code",
   "execution_count": 5,
   "id": "ff9984ac",
   "metadata": {},
   "outputs": [],
   "source": [
    "from tensorflow.keras.models import Sequential\n",
    "from tensorflow.keras.layers import Dense, Dropout, Activation, Flatten, Conv2D, MaxPooling2D, Rescaling"
   ]
  },
  {
   "cell_type": "code",
   "execution_count": 6,
   "id": "78bd346d",
   "metadata": {},
   "outputs": [],
   "source": [
    "img_height = 84\n",
    "img_width = 84\n",
    "\n",
    "filters = 32\n",
    "num_classes = 50\n",
    "dropout_coeff = 0.3\n",
    "\n",
    "model = Sequential()\n",
    "\n",
    "##### Rescaling layer\n",
    "model.add(Rescaling(1./255, input_shape=(img_height, img_width, 1)))\n",
    "\n",
    "##### First convolution layer\n",
    "model.add(Conv2D(filters, (3,3)))  #, input_shape = x_trainr.shape[1:]\n",
    "model.add(Activation(\"relu\"))\n",
    "model.add(MaxPooling2D(pool_size = (2,2)))\n",
    "model.add(Dropout(dropout_coeff, input_shape=(39, 39)))\n",
    "\n",
    "##### Second convolution layer\n",
    "model.add(Conv2D(filters, (3,3)))\n",
    "model.add(Activation(\"relu\"))\n",
    "model.add(MaxPooling2D(pool_size = (2,2)))\n",
    "model.add(Dropout(dropout_coeff, input_shape=(17, 17)))\n",
    "\n",
    "##### Third convolution layer\n",
    "model.add(Conv2D(filters, (3,3)))\n",
    "model.add(Activation(\"relu\"))\n",
    "model.add(MaxPooling2D(pool_size = (2,2)))\n",
    "model.add(Dropout(dropout_coeff, input_shape=(8, 8)))\n",
    "\n",
    "##### Fully Connected Layer #1\n",
    "model.add(Flatten())\n",
    "model.add(Dense(64))\n",
    "model.add(Activation(\"relu\"))\n",
    "\n",
    "##### Fully Connected Layer #2\n",
    "model.add(Dense(64))\n",
    "model.add(Activation(\"relu\"))\n",
    "\n",
    "##### Last Fully Connected Layer, 50 Outputs\n",
    "model.add(Dense(num_classes))\n",
    "model.add(Activation(\"softmax\"))"
   ]
  },
  {
   "cell_type": "code",
   "execution_count": 7,
   "id": "6778d73b",
   "metadata": {},
   "outputs": [
    {
     "name": "stdout",
     "output_type": "stream",
     "text": [
      "Model: \"sequential\"\n",
      "_________________________________________________________________\n",
      " Layer (type)                Output Shape              Param #   \n",
      "=================================================================\n",
      " rescaling (Rescaling)       (None, 84, 84, 1)         0         \n",
      "                                                                 \n",
      " conv2d (Conv2D)             (None, 82, 82, 32)        320       \n",
      "                                                                 \n",
      " activation (Activation)     (None, 82, 82, 32)        0         \n",
      "                                                                 \n",
      " max_pooling2d (MaxPooling2D  (None, 41, 41, 32)       0         \n",
      " )                                                               \n",
      "                                                                 \n",
      " dropout (Dropout)           (None, 41, 41, 32)        0         \n",
      "                                                                 \n",
      " conv2d_1 (Conv2D)           (None, 39, 39, 32)        9248      \n",
      "                                                                 \n",
      " activation_1 (Activation)   (None, 39, 39, 32)        0         \n",
      "                                                                 \n",
      " max_pooling2d_1 (MaxPooling  (None, 19, 19, 32)       0         \n",
      " 2D)                                                             \n",
      "                                                                 \n",
      " dropout_1 (Dropout)         (None, 19, 19, 32)        0         \n",
      "                                                                 \n",
      " conv2d_2 (Conv2D)           (None, 17, 17, 32)        9248      \n",
      "                                                                 \n",
      " activation_2 (Activation)   (None, 17, 17, 32)        0         \n",
      "                                                                 \n",
      " max_pooling2d_2 (MaxPooling  (None, 8, 8, 32)         0         \n",
      " 2D)                                                             \n",
      "                                                                 \n",
      " dropout_2 (Dropout)         (None, 8, 8, 32)          0         \n",
      "                                                                 \n",
      " flatten (Flatten)           (None, 2048)              0         \n",
      "                                                                 \n",
      " dense (Dense)               (None, 64)                131136    \n",
      "                                                                 \n",
      " activation_3 (Activation)   (None, 64)                0         \n",
      "                                                                 \n",
      " dense_1 (Dense)             (None, 64)                4160      \n",
      "                                                                 \n",
      " activation_4 (Activation)   (None, 64)                0         \n",
      "                                                                 \n",
      " dense_2 (Dense)             (None, 50)                3250      \n",
      "                                                                 \n",
      " activation_5 (Activation)   (None, 50)                0         \n",
      "                                                                 \n",
      "=================================================================\n",
      "Total params: 157,362\n",
      "Trainable params: 157,362\n",
      "Non-trainable params: 0\n",
      "_________________________________________________________________\n"
     ]
    }
   ],
   "source": [
    "model.summary()"
   ]
  },
  {
   "cell_type": "code",
   "execution_count": 8,
   "id": "dea5eefb",
   "metadata": {},
   "outputs": [],
   "source": [
    "##### Compiling the Model\n",
    "model.compile(loss = 'sparse_categorical_crossentropy', optimizer = 'adam', metrics = ['accuracy'])"
   ]
  },
  {
   "cell_type": "code",
   "execution_count": 9,
   "id": "28251838",
   "metadata": {},
   "outputs": [
    {
     "name": "stdout",
     "output_type": "stream",
     "text": [
      "Epoch 1/15\n",
      "37/37 [==============================] - 6s 121ms/step - loss: 3.6576 - accuracy: 0.0845 - val_loss: 2.8889 - val_accuracy: 0.2500\n",
      "Epoch 2/15\n",
      "37/37 [==============================] - 5s 122ms/step - loss: 1.9997 - accuracy: 0.4586 - val_loss: 1.2683 - val_accuracy: 0.6914\n",
      "Epoch 3/15\n",
      "37/37 [==============================] - 5s 122ms/step - loss: 0.9370 - accuracy: 0.7272 - val_loss: 0.6565 - val_accuracy: 0.7891\n",
      "Epoch 4/15\n",
      "37/37 [==============================] - 4s 99ms/step - loss: 0.5340 - accuracy: 0.8328 - val_loss: 0.3722 - val_accuracy: 0.8945\n",
      "Epoch 5/15\n",
      "37/37 [==============================] - 4s 109ms/step - loss: 0.3475 - accuracy: 0.8868 - val_loss: 0.1813 - val_accuracy: 0.9453\n",
      "Epoch 6/15\n",
      "37/37 [==============================] - 4s 103ms/step - loss: 0.2755 - accuracy: 0.9130 - val_loss: 0.1613 - val_accuracy: 0.9531\n",
      "Epoch 7/15\n",
      "37/37 [==============================] - 4s 104ms/step - loss: 0.1954 - accuracy: 0.9400 - val_loss: 0.2139 - val_accuracy: 0.9453\n",
      "Epoch 8/15\n",
      "37/37 [==============================] - 4s 102ms/step - loss: 0.1754 - accuracy: 0.9527 - val_loss: 0.1922 - val_accuracy: 0.9531\n",
      "Epoch 9/15\n",
      "37/37 [==============================] - 4s 112ms/step - loss: 0.1385 - accuracy: 0.9510 - val_loss: 0.0748 - val_accuracy: 0.9766\n",
      "Epoch 10/15\n",
      "37/37 [==============================] - 4s 113ms/step - loss: 0.1256 - accuracy: 0.9620 - val_loss: 0.1765 - val_accuracy: 0.9453\n",
      "Epoch 11/15\n",
      "37/37 [==============================] - 4s 103ms/step - loss: 0.0925 - accuracy: 0.9704 - val_loss: 0.1505 - val_accuracy: 0.9570\n",
      "Epoch 12/15\n",
      "37/37 [==============================] - 4s 102ms/step - loss: 0.0931 - accuracy: 0.9654 - val_loss: 0.1064 - val_accuracy: 0.9727\n",
      "Epoch 13/15\n",
      "37/37 [==============================] - 4s 108ms/step - loss: 0.0754 - accuracy: 0.9755 - val_loss: 0.0526 - val_accuracy: 0.9844\n",
      "Epoch 14/15\n",
      "37/37 [==============================] - 4s 109ms/step - loss: 0.0524 - accuracy: 0.9823 - val_loss: 0.0656 - val_accuracy: 0.9805\n",
      "Epoch 15/15\n",
      "37/37 [==============================] - 4s 101ms/step - loss: 0.0355 - accuracy: 0.9890 - val_loss: 0.0490 - val_accuracy: 0.9766\n"
     ]
    }
   ],
   "source": [
    "#Traing with the second splitting of the dataset\n",
    "epochs_data2 = 15\n",
    "\n",
    "history_2 = model.fit(train_dataset, validation_data=validation_dataset, epochs=epochs_data2)"
   ]
  },
  {
   "cell_type": "code",
   "execution_count": 10,
   "id": "a9044a65",
   "metadata": {},
   "outputs": [
    {
     "name": "stdout",
     "output_type": "stream",
     "text": [
      "loss =  0.0355181060731411\n",
      "accuracy =  0.9890202879905701\n",
      "val_loss =  0.048958875238895416\n",
      "val_accuracy =  0.9765625\n"
     ]
    }
   ],
   "source": [
    "print('loss = ', history_2.history['loss'][-1])\n",
    "print('accuracy = ', history_2.history['accuracy'][-1])\n",
    "print('val_loss = ', history_2.history['val_loss'][-1])\n",
    "print('val_accuracy = ', history_2.history['val_accuracy'][-1])"
   ]
  },
  {
   "cell_type": "code",
   "execution_count": 11,
   "id": "84ce84a0",
   "metadata": {},
   "outputs": [
    {
     "data": {
      "image/png": "[encoded data removed]",
      "text/plain": [
       "<Figure size 640x480 with 1 Axes>"
      ]
     },
     "metadata": {},
     "output_type": "display_data"
    }
   ],
   "source": [
    "epoch_num = list(range(0, epochs_data2))\n",
    "plt.plot(epoch_num, history_2.history['loss'], label = 'loss')\n",
    "plt.plot(epoch_num, history_2.history['accuracy'], label = 'accuracy')\n",
    "plt.plot(epoch_num, history_2.history['val_loss'], label = 'val_loss')\n",
    "plt.plot(epoch_num, history_2.history['val_accuracy'], label = 'val_accuracy')\n",
    "plt.legend()\n",
    "plt.show()"
   ]
  },
  {
   "cell_type": "code",
   "execution_count": 12,
   "id": "b9b4e691",
   "metadata": {},
   "outputs": [
    {
     "name": "stdout",
     "output_type": "stream",
     "text": [
      "9/9 [==============================] - 1s 34ms/step\n"
     ]
    }
   ],
   "source": [
    "prediction = model.predict(test_dataset)"
   ]
  },
  {
   "cell_type": "code",
   "execution_count": 13,
   "id": "ba24751f",
   "metadata": {},
   "outputs": [
    {
     "name": "stdout",
     "output_type": "stream",
     "text": [
      "loss =  0.0355181060731411\n",
      "accuracy =  0.9890202879905701\n"
     ]
    }
   ],
   "source": [
    "print('loss = ', history_2.history['loss'][-1])\n",
    "print('accuracy = ', history_2.history['accuracy'][-1])"
   ]
  },
  {
   "cell_type": "code",
   "execution_count": 14,
   "id": "5820dcdc",
   "metadata": {},
   "outputs": [
    {
     "data": {
      "image/png": "[encoded data removed]",
      "text/plain": [
       "<Figure size 640x480 with 1 Axes>"
      ]
     },
     "metadata": {},
     "output_type": "display_data"
    }
   ],
   "source": [
    "epoch_num = list(range(0, epochs_data2))\n",
    "plt.plot(epoch_num, history_2.history['loss'], label = 'loss')\n",
    "plt.plot(epoch_num, history_2.history['accuracy'], label = 'accuracy')\n",
    "plt.legend()\n",
    "plt.show()"
   ]
  },
  {
   "cell_type": "markdown",
   "id": "206d8e8b",
   "metadata": {},
   "source": [
    "### Codice utilizzato in precedenza ma che ora è obsoleto"
   ]
  },
  {
   "cell_type": "code",
   "execution_count": null,
   "id": "b632e4d3",
   "metadata": {},
   "outputs": [],
   "source": [
    "train_data = tf.keras.utils.image_dataset_from_directory(dataset_path,\n",
    "                                                                color_mode='grayscale',\n",
    "                                                                labels = 'inferred',\n",
    "                                                                batch_size=32,\n",
    "                                                                image_size=(84, 84),\n",
    "                                                                seed=1,\n",
    "                                                                validation_split=0.2,\n",
    "                                                                subset='training')"
   ]
  },
  {
   "cell_type": "code",
   "execution_count": null,
   "id": "9d8a1260",
   "metadata": {},
   "outputs": [],
   "source": [
    "val_data = tf.keras.utils.image_dataset_from_directory(dataset_path,\n",
    "                                                                color_mode='grayscale',\n",
    "                                                                labels = 'inferred',\n",
    "                                                                batch_size=32,\n",
    "                                                                image_size=(84, 84),\n",
    "                                                                seed=1,\n",
    "                                                                validation_split=0.2,\n",
    "                                                                subset='validation')"
   ]
  },
  {
   "cell_type": "code",
   "execution_count": null,
   "id": "3e73c4fa",
   "metadata": {},
   "outputs": [],
   "source": [
    "epochs = 15\n",
    "\n",
    "history = model.fit(train_data, validation_data=val_data, epochs=epochs)"
   ]
  },
  {
   "cell_type": "code",
   "execution_count": null,
   "id": "d4bfdb53",
   "metadata": {},
   "outputs": [],
   "source": [
    "print('loss = ', history.history['loss'][-1])\n",
    "print('accuracy = ', history.history['accuracy'][-1])\n",
    "print('val_loss = ', history.history['val_loss'][-1])\n",
    "print('val_accuracy = ', history.history['val_accuracy'][-1])"
   ]
  },
  {
   "cell_type": "code",
   "execution_count": null,
   "id": "8e35aa1d",
   "metadata": {},
   "outputs": [],
   "source": [
    "epoch_num = list(range(0, epochs))\n",
    "plt.plot(epoch_num, history.history['loss'], label = 'loss')\n",
    "plt.plot(epoch_num, history.history['accuracy'], label = 'accuracy')\n",
    "plt.plot(epoch_num, history.history['val_loss'], label = 'val_loss')\n",
    "plt.plot(epoch_num, history.history['val_accuracy'], label = 'val_accuracy')\n",
    "plt.legend()\n",
    "plt.show()"
   ]
  }
 ],
 "metadata": {
  "kernelspec": {
   "display_name": "Python 3 (ipykernel)",
   "language": "python",
   "name": "python3"
  },
  "language_info": {
   "codemirror_mode": {
    "name": "ipython",
    "version": 3
   },
   "file_extension": ".py",
   "mimetype": "text/x-python",
   "name": "python",
   "nbconvert_exporter": "python",
   "pygments_lexer": "ipython3",
   "version": "3.9.13"
  }
 },
 "nbformat": 4,
 "nbformat_minor": 5
}
