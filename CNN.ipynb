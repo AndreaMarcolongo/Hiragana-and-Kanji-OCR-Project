{
 "cells": [
  {
   "cell_type": "markdown",
   "id": "f05cb8af",
   "metadata": {},
   "source": [
    "uso mobilenetV3 per hiragana/kanjji\n",
    "\n",
    "uso CNN normale per hiragana\n",
    "\n",
    "faccio confonto\n",
    "\n",
    "metto file su github"
   ]
  },
  {
   "cell_type": "code",
   "execution_count": 1,
   "id": "c88422b1",
   "metadata": {},
   "outputs": [
    {
     "name": "stdout",
     "output_type": "stream",
     "text": [
      "Requirement already satisfied: tensorflow-datasets in c:\\users\\andma\\anaconda3\\lib\\site-packages (4.7.0)\n",
      "Requirement already satisfied: absl-py in c:\\users\\andma\\anaconda3\\lib\\site-packages (from tensorflow-datasets) (1.3.0)\n",
      "Requirement already satisfied: termcolor in c:\\users\\andma\\anaconda3\\lib\\site-packages (from tensorflow-datasets) (2.1.1)\n",
      "Requirement already satisfied: requests>=2.19.0 in c:\\users\\andma\\anaconda3\\lib\\site-packages (from tensorflow-datasets) (2.28.1)\n",
      "Requirement already satisfied: tqdm in c:\\users\\andma\\anaconda3\\lib\\site-packages (from tensorflow-datasets) (4.64.1)\n",
      "Requirement already satisfied: dill in c:\\users\\andma\\anaconda3\\lib\\site-packages (from tensorflow-datasets) (0.3.4)\n",
      "Requirement already satisfied: etils[epath] in c:\\users\\andma\\anaconda3\\lib\\site-packages (from tensorflow-datasets) (0.9.0)\n",
      "Requirement already satisfied: protobuf>=3.12.2 in c:\\users\\andma\\anaconda3\\lib\\site-packages (from tensorflow-datasets) (3.19.6)\n",
      "Requirement already satisfied: tensorflow-metadata in c:\\users\\andma\\anaconda3\\lib\\site-packages (from tensorflow-datasets) (1.12.0)\n",
      "Requirement already satisfied: promise in c:\\users\\andma\\anaconda3\\lib\\site-packages (from tensorflow-datasets) (2.3)\n",
      "Requirement already satisfied: six in c:\\users\\andma\\anaconda3\\lib\\site-packages (from tensorflow-datasets) (1.16.0)\n",
      "Requirement already satisfied: numpy in c:\\users\\andma\\anaconda3\\lib\\site-packages (from tensorflow-datasets) (1.21.5)\n",
      "Requirement already satisfied: toml in c:\\users\\andma\\anaconda3\\lib\\site-packages (from tensorflow-datasets) (0.10.2)\n",
      "Requirement already satisfied: charset-normalizer<3,>=2 in c:\\users\\andma\\anaconda3\\lib\\site-packages (from requests>=2.19.0->tensorflow-datasets) (2.0.4)\n",
      "Requirement already satisfied: idna<4,>=2.5 in c:\\users\\andma\\anaconda3\\lib\\site-packages (from requests>=2.19.0->tensorflow-datasets) (3.3)\n",
      "Requirement already satisfied: certifi>=2017.4.17 in c:\\users\\andma\\anaconda3\\lib\\site-packages (from requests>=2.19.0->tensorflow-datasets) (2022.9.14)\n",
      "Requirement already satisfied: urllib3<1.27,>=1.21.1 in c:\\users\\andma\\anaconda3\\lib\\site-packages (from requests>=2.19.0->tensorflow-datasets) (1.26.11)\n",
      "Requirement already satisfied: typing_extensions in c:\\users\\andma\\anaconda3\\lib\\site-packages (from etils[epath]->tensorflow-datasets) (4.3.0)\n",
      "Requirement already satisfied: importlib_resources in c:\\users\\andma\\anaconda3\\lib\\site-packages (from etils[epath]->tensorflow-datasets) (5.10.1)\n",
      "Requirement already satisfied: zipp in c:\\users\\andma\\anaconda3\\lib\\site-packages (from etils[epath]->tensorflow-datasets) (3.8.0)\n",
      "Requirement already satisfied: googleapis-common-protos<2,>=1.52.0 in c:\\users\\andma\\anaconda3\\lib\\site-packages (from tensorflow-metadata->tensorflow-datasets) (1.57.0)\n",
      "Requirement already satisfied: colorama in c:\\users\\andma\\anaconda3\\lib\\site-packages (from tqdm->tensorflow-datasets) (0.4.5)\n"
     ]
    }
   ],
   "source": [
    "!pip install tensorflow-datasets"
   ]
  },
  {
   "cell_type": "code",
   "execution_count": 1,
   "id": "ba7bcc9f",
   "metadata": {},
   "outputs": [],
   "source": [
    "import tensorflow as tf\n",
    "import numpy as np\n",
    "import matplotlib.pyplot as plt\n",
    "import pathlib\n",
    "import tensorflow_datasets as tfds"
   ]
  },
  {
   "cell_type": "code",
   "execution_count": 2,
   "id": "26001e03",
   "metadata": {},
   "outputs": [
    {
     "name": "stdout",
     "output_type": "stream",
     "text": [
      "Found 2000 files belonging to 50 classes.\n",
      "Using 1600 files for training.\n"
     ]
    }
   ],
   "source": [
    "dataset_path = 'C:/Users/andma/OneDrive/Documenti/hiragana images/hiragana_images'\n",
    "\n",
    "train_data = tf.keras.utils.image_dataset_from_directory(dataset_path,\n",
    "                                                                color_mode='grayscale',\n",
    "                                                                labels = 'inferred',\n",
    "                                                                batch_size=32,\n",
    "                                                                image_size=(84, 84),\n",
    "                                                                seed=1,\n",
    "                                                                validation_split=0.2,\n",
    "                                                                subset='training')"
   ]
  },
  {
   "cell_type": "code",
   "execution_count": 3,
   "id": "fe8d3211",
   "metadata": {},
   "outputs": [
    {
     "name": "stdout",
     "output_type": "stream",
     "text": [
      "Found 2000 files belonging to 50 classes.\n",
      "Using 400 files for validation.\n"
     ]
    }
   ],
   "source": [
    "val_data = tf.keras.utils.image_dataset_from_directory(dataset_path,\n",
    "                                                                color_mode='grayscale',\n",
    "                                                                labels = 'inferred',\n",
    "                                                                batch_size=32,\n",
    "                                                                image_size=(84, 84),\n",
    "                                                                seed=1,\n",
    "                                                                validation_split=0.2,\n",
    "                                                                subset='validation')"
   ]
  },
  {
   "cell_type": "code",
   "execution_count": 4,
   "id": "0daebf29",
   "metadata": {},
   "outputs": [],
   "source": [
    "from tensorflow.keras.models import Sequential\n",
    "from tensorflow.keras.layers import Dense, Dropout, Activation, Flatten, Conv2D, MaxPooling2D, Rescaling"
   ]
  },
  {
   "cell_type": "code",
   "execution_count": 5,
   "id": "22c1d14b",
   "metadata": {},
   "outputs": [],
   "source": [
    "img_height = 84\n",
    "img_width = 84\n",
    "\n",
    "filters = 32\n",
    "num_classes = 50\n",
    "dropout_coeff = 0.6\n",
    "\n",
    "model = Sequential()\n",
    "\n",
    "##### Rescaling layer\n",
    "model.add(Rescaling(1./255, input_shape=(img_height, img_width, 1)))\n",
    "\n",
    "##### First convolution layer\n",
    "model.add(Conv2D(filters, (3,3)))  #, input_shape = x_trainr.shape[1:]\n",
    "model.add(Activation(\"relu\"))\n",
    "model.add(MaxPooling2D(pool_size = (2,2)))\n",
    "model.add(Dropout(dropout_coeff, input_shape=(39, 39)))\n",
    "\n",
    "##### Second convolution layer\n",
    "model.add(Conv2D(filters, (3,3)))\n",
    "model.add(Activation(\"relu\"))\n",
    "model.add(MaxPooling2D(pool_size = (2,2)))\n",
    "model.add(Dropout(dropout_coeff, input_shape=(17, 17)))\n",
    "\n",
    "##### Third convolution layer\n",
    "model.add(Conv2D(filters, (3,3)))\n",
    "model.add(Activation(\"relu\"))\n",
    "model.add(MaxPooling2D(pool_size = (2,2)))\n",
    "model.add(Dropout(dropout_coeff, input_shape=(8, 8)))\n",
    "\n",
    "##### Fully Connected Layer #1\n",
    "model.add(Flatten())\n",
    "model.add(Dense(64))\n",
    "model.add(Activation(\"relu\"))\n",
    "\n",
    "##### Fully Connected Layer #2\n",
    "model.add(Dense(64))\n",
    "model.add(Activation(\"relu\"))\n",
    "\n",
    "##### Last Fully Connected Layer, 50 Outputs\n",
    "model.add(Dense(num_classes))\n",
    "model.add(Activation(\"softmax\"))"
   ]
  },
  {
   "cell_type": "code",
   "execution_count": 6,
   "id": "78661727",
   "metadata": {},
   "outputs": [
    {
     "name": "stdout",
     "output_type": "stream",
     "text": [
      "Model: \"sequential\"\n",
      "_________________________________________________________________\n",
      " Layer (type)                Output Shape              Param #   \n",
      "=================================================================\n",
      " rescaling (Rescaling)       (None, 84, 84, 1)         0         \n",
      "                                                                 \n",
      " conv2d (Conv2D)             (None, 82, 82, 32)        320       \n",
      "                                                                 \n",
      " activation (Activation)     (None, 82, 82, 32)        0         \n",
      "                                                                 \n",
      " max_pooling2d (MaxPooling2D  (None, 41, 41, 32)       0         \n",
      " )                                                               \n",
      "                                                                 \n",
      " dropout (Dropout)           (None, 41, 41, 32)        0         \n",
      "                                                                 \n",
      " conv2d_1 (Conv2D)           (None, 39, 39, 32)        9248      \n",
      "                                                                 \n",
      " activation_1 (Activation)   (None, 39, 39, 32)        0         \n",
      "                                                                 \n",
      " max_pooling2d_1 (MaxPooling  (None, 19, 19, 32)       0         \n",
      " 2D)                                                             \n",
      "                                                                 \n",
      " dropout_1 (Dropout)         (None, 19, 19, 32)        0         \n",
      "                                                                 \n",
      " conv2d_2 (Conv2D)           (None, 17, 17, 32)        9248      \n",
      "                                                                 \n",
      " activation_2 (Activation)   (None, 17, 17, 32)        0         \n",
      "                                                                 \n",
      " max_pooling2d_2 (MaxPooling  (None, 8, 8, 32)         0         \n",
      " 2D)                                                             \n",
      "                                                                 \n",
      " dropout_2 (Dropout)         (None, 8, 8, 32)          0         \n",
      "                                                                 \n",
      " flatten (Flatten)           (None, 2048)              0         \n",
      "                                                                 \n",
      " dense (Dense)               (None, 64)                131136    \n",
      "                                                                 \n",
      " activation_3 (Activation)   (None, 64)                0         \n",
      "                                                                 \n",
      " dense_1 (Dense)             (None, 64)                4160      \n",
      "                                                                 \n",
      " activation_4 (Activation)   (None, 64)                0         \n",
      "                                                                 \n",
      " dense_2 (Dense)             (None, 50)                3250      \n",
      "                                                                 \n",
      " activation_5 (Activation)   (None, 50)                0         \n",
      "                                                                 \n",
      "=================================================================\n",
      "Total params: 157,362\n",
      "Trainable params: 157,362\n",
      "Non-trainable params: 0\n",
      "_________________________________________________________________\n"
     ]
    }
   ],
   "source": [
    "model.summary()"
   ]
  },
  {
   "cell_type": "code",
   "execution_count": 7,
   "id": "c0f15bae",
   "metadata": {},
   "outputs": [],
   "source": [
    "##### Compiling the Model\n",
    "model.compile(loss = 'sparse_categorical_crossentropy', optimizer = 'adam', metrics = ['accuracy'])"
   ]
  },
  {
   "cell_type": "code",
   "execution_count": 9,
   "id": "15a10d43",
   "metadata": {},
   "outputs": [
    {
     "name": "stdout",
     "output_type": "stream",
     "text": [
      "Epoch 1/15\n",
      "50/50 [==============================] - 7s 138ms/step - loss: 2.2571 - accuracy: 0.4006 - val_loss: 1.7026 - val_accuracy: 0.6875\n",
      "Epoch 2/15\n",
      "50/50 [==============================] - 6s 126ms/step - loss: 1.1509 - accuracy: 0.6700 - val_loss: 0.9695 - val_accuracy: 0.7525\n",
      "Epoch 3/15\n",
      "50/50 [==============================] - 6s 127ms/step - loss: 0.8090 - accuracy: 0.7569 - val_loss: 0.7507 - val_accuracy: 0.8325\n",
      "Epoch 4/15\n",
      "50/50 [==============================] - 7s 130ms/step - loss: 0.6103 - accuracy: 0.8050 - val_loss: 0.6338 - val_accuracy: 0.8625\n",
      "Epoch 5/15\n",
      "50/50 [==============================] - 6s 125ms/step - loss: 0.4683 - accuracy: 0.8537 - val_loss: 0.5183 - val_accuracy: 0.8650\n",
      "Epoch 6/15\n",
      "50/50 [==============================] - 7s 129ms/step - loss: 0.3618 - accuracy: 0.8819 - val_loss: 0.4122 - val_accuracy: 0.8975\n",
      "Epoch 7/15\n",
      "50/50 [==============================] - 6s 125ms/step - loss: 0.3521 - accuracy: 0.8869 - val_loss: 0.3398 - val_accuracy: 0.9000\n",
      "Epoch 8/15\n",
      "50/50 [==============================] - 6s 125ms/step - loss: 0.2657 - accuracy: 0.9150 - val_loss: 0.3333 - val_accuracy: 0.8825\n",
      "Epoch 9/15\n",
      "50/50 [==============================] - 7s 129ms/step - loss: 0.2746 - accuracy: 0.9106 - val_loss: 0.3180 - val_accuracy: 0.9025\n",
      "Epoch 10/15\n",
      "50/50 [==============================] - 6s 124ms/step - loss: 0.2260 - accuracy: 0.9225 - val_loss: 0.2872 - val_accuracy: 0.9125\n",
      "Epoch 11/15\n",
      "50/50 [==============================] - 7s 129ms/step - loss: 0.2034 - accuracy: 0.9262 - val_loss: 0.2516 - val_accuracy: 0.9100\n",
      "Epoch 12/15\n",
      "50/50 [==============================] - 6s 127ms/step - loss: 0.1893 - accuracy: 0.9406 - val_loss: 0.2399 - val_accuracy: 0.9150\n",
      "Epoch 13/15\n",
      "50/50 [==============================] - 6s 126ms/step - loss: 0.1823 - accuracy: 0.9425 - val_loss: 0.2460 - val_accuracy: 0.9275\n",
      "Epoch 14/15\n",
      "50/50 [==============================] - 7s 130ms/step - loss: 0.1209 - accuracy: 0.9600 - val_loss: 0.2030 - val_accuracy: 0.9275\n",
      "Epoch 15/15\n",
      "50/50 [==============================] - 7s 133ms/step - loss: 0.1494 - accuracy: 0.9488 - val_loss: 0.2200 - val_accuracy: 0.9300\n"
     ]
    }
   ],
   "source": [
    "epochs = 15\n",
    "\n",
    "history = model.fit(train_data, validation_data=val_data, epochs=epochs)"
   ]
  },
  {
   "cell_type": "code",
   "execution_count": 10,
   "id": "153d1415",
   "metadata": {},
   "outputs": [
    {
     "name": "stdout",
     "output_type": "stream",
     "text": [
      "{'verbose': 1, 'epochs': 15, 'steps': 50}\n"
     ]
    }
   ],
   "source": [
    "print(history.params)"
   ]
  },
  {
   "cell_type": "code",
   "execution_count": 11,
   "id": "d2ae12a8",
   "metadata": {},
   "outputs": [
    {
     "name": "stdout",
     "output_type": "stream",
     "text": [
      "dict_keys(['loss', 'accuracy', 'val_loss', 'val_accuracy'])\n"
     ]
    }
   ],
   "source": [
    "print(history.history.keys())"
   ]
  },
  {
   "cell_type": "code",
   "execution_count": 12,
   "id": "4e3ea7c8",
   "metadata": {},
   "outputs": [
    {
     "name": "stdout",
     "output_type": "stream",
     "text": [
      "loss =  0.14935161173343658\n",
      "accuracy =  0.9487500190734863\n",
      "val_loss =  0.21996533870697021\n",
      "val_accuracy =  0.9300000071525574\n"
     ]
    }
   ],
   "source": [
    "print('loss = ', history.history['loss'][-1])\n",
    "print('accuracy = ', history.history['accuracy'][-1])\n",
    "print('val_loss = ', history.history['val_loss'][-1])\n",
    "print('val_accuracy = ', history.history['val_accuracy'][-1])"
   ]
  },
  {
   "cell_type": "code",
   "execution_count": 13,
   "id": "10e7d687",
   "metadata": {},
   "outputs": [
    {
     "data": {
      "image/png": "[encoded data removed]",
      "text/plain": [
       "<Figure size 640x480 with 1 Axes>"
      ]
     },
     "metadata": {},
     "output_type": "display_data"
    }
   ],
   "source": [
    "epoch_num = list(range(0, epochs))\n",
    "plt.plot(epoch_num, history.history['loss'], label = 'loss')\n",
    "plt.plot(epoch_num, history.history['accuracy'], label = 'accuracy')\n",
    "plt.plot(epoch_num, history.history['val_loss'], label = 'val_loss')\n",
    "plt.plot(epoch_num, history.history['val_accuracy'], label = 'val_accuracy')\n",
    "plt.legend()\n",
    "plt.show()"
   ]
  },
  {
   "cell_type": "code",
   "execution_count": null,
   "id": "e6dc074c",
   "metadata": {},
   "outputs": [],
   "source": []
  }
 ],
 "metadata": {
  "kernelspec": {
   "display_name": "Python 3 (ipykernel)",
   "language": "python",
   "name": "python3"
  },
  "language_info": {
   "codemirror_mode": {
    "name": "ipython",
    "version": 3
   },
   "file_extension": ".py",
   "mimetype": "text/x-python",
   "name": "python",
   "nbconvert_exporter": "python",
   "pygments_lexer": "ipython3",
   "version": "3.9.13"
  }
 },
 "nbformat": 4,
 "nbformat_minor": 5
}
